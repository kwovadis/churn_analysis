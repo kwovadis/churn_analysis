{
 "cells": [
  {
   "cell_type": "markdown",
   "id": "f248ab25",
   "metadata": {},
   "source": [
    "### Introduction\n",
    "#### A brief analysis of the churn rate of the telecomunications **Telco Company** ([Link to data](https://www.kaggle.com/blastchar/telco-customer-churn)) using the **CRISP-DM** process: \n",
    "1. Business Understanding\n",
    "2. Data Understanding\n",
    "3. Data Preparation\n",
    "4. Modeling\n",
    "5. Evaluation\n",
    "6. Deployment\n",
    "\n",
    "Main objectives: \n",
    "- Better understand the CRISP-DM process, specifically focusing on:\n",
    "    - Investigating the dataset & setting up business questions\n",
    "    - Preparing & cleaning up data \n",
    "    - Modeling & evaluating the dataset\n",
    "- Become familiarized with simple churn analysis"
   ]
  },
  {
   "cell_type": "code",
   "execution_count": 1,
   "id": "b749f650",
   "metadata": {},
   "outputs": [
    {
     "name": "stdout",
     "output_type": "stream",
     "text": [
      "c:\\Users\\kwojn\\OneDrive\\Documents\\DataScience\\churn_analysis\\churn_analysis\n",
      "['.git', '.ipynb_checkpoints', 'churn_analysis.ipynb', 'data', 'README.md']\n"
     ]
    }
   ],
   "source": [
    "# Import modules\n",
    "import os\n",
    "import numpy as np\n",
    "import pandas as pd\n",
    "import matplotlib.pyplot as plt\n",
    "from IPython import display\n",
    "%matplotlib inline\n",
    "\n",
    "cwd = os.getcwd()\n",
    "ls = os.listdir()\n",
    "print(cwd)\n",
    "print(ls)"
   ]
  },
  {
   "cell_type": "markdown",
   "id": "57e1a75b",
   "metadata": {},
   "source": [
    "### Import data"
   ]
  },
  {
   "cell_type": "code",
   "execution_count": 2,
   "id": "c7e1b6b6",
   "metadata": {},
   "outputs": [
    {
     "name": "stdout",
     "output_type": "stream",
     "text": [
      "Number of rows = 7043 & number of columns = 21\n"
     ]
    },
    {
     "data": {
      "text/html": [
       "<div>\n",
       "<style scoped>\n",
       "    .dataframe tbody tr th:only-of-type {\n",
       "        vertical-align: middle;\n",
       "    }\n",
       "\n",
       "    .dataframe tbody tr th {\n",
       "        vertical-align: top;\n",
       "    }\n",
       "\n",
       "    .dataframe thead th {\n",
       "        text-align: right;\n",
       "    }\n",
       "</style>\n",
       "<table border=\"1\" class=\"dataframe\">\n",
       "  <thead>\n",
       "    <tr style=\"text-align: right;\">\n",
       "      <th></th>\n",
       "      <th>customerID</th>\n",
       "      <th>gender</th>\n",
       "      <th>SeniorCitizen</th>\n",
       "      <th>Partner</th>\n",
       "      <th>Dependents</th>\n",
       "      <th>tenure</th>\n",
       "      <th>PhoneService</th>\n",
       "      <th>MultipleLines</th>\n",
       "      <th>InternetService</th>\n",
       "      <th>OnlineSecurity</th>\n",
       "      <th>...</th>\n",
       "      <th>DeviceProtection</th>\n",
       "      <th>TechSupport</th>\n",
       "      <th>StreamingTV</th>\n",
       "      <th>StreamingMovies</th>\n",
       "      <th>Contract</th>\n",
       "      <th>PaperlessBilling</th>\n",
       "      <th>PaymentMethod</th>\n",
       "      <th>MonthlyCharges</th>\n",
       "      <th>TotalCharges</th>\n",
       "      <th>Churn</th>\n",
       "    </tr>\n",
       "  </thead>\n",
       "  <tbody>\n",
       "    <tr>\n",
       "      <th>0</th>\n",
       "      <td>7590-VHVEG</td>\n",
       "      <td>Female</td>\n",
       "      <td>0</td>\n",
       "      <td>Yes</td>\n",
       "      <td>No</td>\n",
       "      <td>1</td>\n",
       "      <td>No</td>\n",
       "      <td>No phone service</td>\n",
       "      <td>DSL</td>\n",
       "      <td>No</td>\n",
       "      <td>...</td>\n",
       "      <td>No</td>\n",
       "      <td>No</td>\n",
       "      <td>No</td>\n",
       "      <td>No</td>\n",
       "      <td>Month-to-month</td>\n",
       "      <td>Yes</td>\n",
       "      <td>Electronic check</td>\n",
       "      <td>29.85</td>\n",
       "      <td>29.85</td>\n",
       "      <td>No</td>\n",
       "    </tr>\n",
       "    <tr>\n",
       "      <th>1</th>\n",
       "      <td>5575-GNVDE</td>\n",
       "      <td>Male</td>\n",
       "      <td>0</td>\n",
       "      <td>No</td>\n",
       "      <td>No</td>\n",
       "      <td>34</td>\n",
       "      <td>Yes</td>\n",
       "      <td>No</td>\n",
       "      <td>DSL</td>\n",
       "      <td>Yes</td>\n",
       "      <td>...</td>\n",
       "      <td>Yes</td>\n",
       "      <td>No</td>\n",
       "      <td>No</td>\n",
       "      <td>No</td>\n",
       "      <td>One year</td>\n",
       "      <td>No</td>\n",
       "      <td>Mailed check</td>\n",
       "      <td>56.95</td>\n",
       "      <td>1889.5</td>\n",
       "      <td>No</td>\n",
       "    </tr>\n",
       "    <tr>\n",
       "      <th>2</th>\n",
       "      <td>3668-QPYBK</td>\n",
       "      <td>Male</td>\n",
       "      <td>0</td>\n",
       "      <td>No</td>\n",
       "      <td>No</td>\n",
       "      <td>2</td>\n",
       "      <td>Yes</td>\n",
       "      <td>No</td>\n",
       "      <td>DSL</td>\n",
       "      <td>Yes</td>\n",
       "      <td>...</td>\n",
       "      <td>No</td>\n",
       "      <td>No</td>\n",
       "      <td>No</td>\n",
       "      <td>No</td>\n",
       "      <td>Month-to-month</td>\n",
       "      <td>Yes</td>\n",
       "      <td>Mailed check</td>\n",
       "      <td>53.85</td>\n",
       "      <td>108.15</td>\n",
       "      <td>Yes</td>\n",
       "    </tr>\n",
       "    <tr>\n",
       "      <th>3</th>\n",
       "      <td>7795-CFOCW</td>\n",
       "      <td>Male</td>\n",
       "      <td>0</td>\n",
       "      <td>No</td>\n",
       "      <td>No</td>\n",
       "      <td>45</td>\n",
       "      <td>No</td>\n",
       "      <td>No phone service</td>\n",
       "      <td>DSL</td>\n",
       "      <td>Yes</td>\n",
       "      <td>...</td>\n",
       "      <td>Yes</td>\n",
       "      <td>Yes</td>\n",
       "      <td>No</td>\n",
       "      <td>No</td>\n",
       "      <td>One year</td>\n",
       "      <td>No</td>\n",
       "      <td>Bank transfer (automatic)</td>\n",
       "      <td>42.30</td>\n",
       "      <td>1840.75</td>\n",
       "      <td>No</td>\n",
       "    </tr>\n",
       "    <tr>\n",
       "      <th>4</th>\n",
       "      <td>9237-HQITU</td>\n",
       "      <td>Female</td>\n",
       "      <td>0</td>\n",
       "      <td>No</td>\n",
       "      <td>No</td>\n",
       "      <td>2</td>\n",
       "      <td>Yes</td>\n",
       "      <td>No</td>\n",
       "      <td>Fiber optic</td>\n",
       "      <td>No</td>\n",
       "      <td>...</td>\n",
       "      <td>No</td>\n",
       "      <td>No</td>\n",
       "      <td>No</td>\n",
       "      <td>No</td>\n",
       "      <td>Month-to-month</td>\n",
       "      <td>Yes</td>\n",
       "      <td>Electronic check</td>\n",
       "      <td>70.70</td>\n",
       "      <td>151.65</td>\n",
       "      <td>Yes</td>\n",
       "    </tr>\n",
       "  </tbody>\n",
       "</table>\n",
       "<p>5 rows × 21 columns</p>\n",
       "</div>"
      ],
      "text/plain": [
       "   customerID  gender  SeniorCitizen Partner Dependents  tenure PhoneService  \\\n",
       "0  7590-VHVEG  Female              0     Yes         No       1           No   \n",
       "1  5575-GNVDE    Male              0      No         No      34          Yes   \n",
       "2  3668-QPYBK    Male              0      No         No       2          Yes   \n",
       "3  7795-CFOCW    Male              0      No         No      45           No   \n",
       "4  9237-HQITU  Female              0      No         No       2          Yes   \n",
       "\n",
       "      MultipleLines InternetService OnlineSecurity  ... DeviceProtection  \\\n",
       "0  No phone service             DSL             No  ...               No   \n",
       "1                No             DSL            Yes  ...              Yes   \n",
       "2                No             DSL            Yes  ...               No   \n",
       "3  No phone service             DSL            Yes  ...              Yes   \n",
       "4                No     Fiber optic             No  ...               No   \n",
       "\n",
       "  TechSupport StreamingTV StreamingMovies        Contract PaperlessBilling  \\\n",
       "0          No          No              No  Month-to-month              Yes   \n",
       "1          No          No              No        One year               No   \n",
       "2          No          No              No  Month-to-month              Yes   \n",
       "3         Yes          No              No        One year               No   \n",
       "4          No          No              No  Month-to-month              Yes   \n",
       "\n",
       "               PaymentMethod MonthlyCharges  TotalCharges Churn  \n",
       "0           Electronic check          29.85         29.85    No  \n",
       "1               Mailed check          56.95        1889.5    No  \n",
       "2               Mailed check          53.85        108.15   Yes  \n",
       "3  Bank transfer (automatic)          42.30       1840.75    No  \n",
       "4           Electronic check          70.70        151.65   Yes  \n",
       "\n",
       "[5 rows x 21 columns]"
      ]
     },
     "execution_count": 2,
     "metadata": {},
     "output_type": "execute_result"
    }
   ],
   "source": [
    "# dataset\n",
    "# Import\n",
    "df = pd.read_csv('.\\data\\WA_Fn-UseC_-Telco-Customer-Churn.csv')\n",
    "\n",
    "# Rows & columns\n",
    "rows = df.shape[0]\n",
    "cols = df_clean.shape[1]\n",
    "print(f'Number of rows = {rows} & number of columns = {cols}')\n",
    "\n",
    "# Dataset overview\n",
    "df.head()\n"
   ]
  },
  {
   "cell_type": "markdown",
   "id": "57e1a75b",
   "metadata": {},
   "source": [
    "### Business questions to be analyzed in notebook\n",
    "1. What are the statistics of monthly & total charges of people that are customers vs people that churned?\n",
    "2. What are the statistics of the tenure of people that are customers vs people that churned?\n",
    "3. What services do people that are customers prefer vs people that churn? (nice tornado plot?)\n",
    "4. Can we predict the churn rate based on the quantitative variables & how does the prediction improve when we add the categorical variables?"
   ]
  },
  {
   "cell_type": "code",
   "execution_count": 3,
   "id": "a8227066",
   "metadata": {},
   "outputs": [
    {
     "data": {
      "text/html": [
       "<div>\n",
       "<style scoped>\n",
       "    .dataframe tbody tr th:only-of-type {\n",
       "        vertical-align: middle;\n",
       "    }\n",
       "\n",
       "    .dataframe tbody tr th {\n",
       "        vertical-align: top;\n",
       "    }\n",
       "\n",
       "    .dataframe thead th {\n",
       "        text-align: right;\n",
       "    }\n",
       "</style>\n",
       "<table border=\"1\" class=\"dataframe\">\n",
       "  <thead>\n",
       "    <tr style=\"text-align: right;\">\n",
       "      <th></th>\n",
       "      <th>customerID</th>\n",
       "      <th>gender</th>\n",
       "      <th>SeniorCitizen</th>\n",
       "      <th>Partner</th>\n",
       "      <th>Dependents</th>\n",
       "      <th>tenure</th>\n",
       "      <th>PhoneService</th>\n",
       "      <th>MultipleLines</th>\n",
       "      <th>InternetService</th>\n",
       "      <th>OnlineSecurity</th>\n",
       "      <th>...</th>\n",
       "      <th>DeviceProtection</th>\n",
       "      <th>TechSupport</th>\n",
       "      <th>StreamingTV</th>\n",
       "      <th>StreamingMovies</th>\n",
       "      <th>Contract</th>\n",
       "      <th>PaperlessBilling</th>\n",
       "      <th>PaymentMethod</th>\n",
       "      <th>MonthlyCharges</th>\n",
       "      <th>TotalCharges</th>\n",
       "      <th>Churn</th>\n",
       "    </tr>\n",
       "  </thead>\n",
       "  <tbody>\n",
       "    <tr>\n",
       "      <th>0</th>\n",
       "      <td>object</td>\n",
       "      <td>object</td>\n",
       "      <td>int64</td>\n",
       "      <td>object</td>\n",
       "      <td>object</td>\n",
       "      <td>int64</td>\n",
       "      <td>object</td>\n",
       "      <td>object</td>\n",
       "      <td>object</td>\n",
       "      <td>object</td>\n",
       "      <td>...</td>\n",
       "      <td>object</td>\n",
       "      <td>object</td>\n",
       "      <td>object</td>\n",
       "      <td>object</td>\n",
       "      <td>object</td>\n",
       "      <td>object</td>\n",
       "      <td>object</td>\n",
       "      <td>float64</td>\n",
       "      <td>object</td>\n",
       "      <td>object</td>\n",
       "    </tr>\n",
       "  </tbody>\n",
       "</table>\n",
       "<p>1 rows × 21 columns</p>\n",
       "</div>"
      ],
      "text/plain": [
       "  customerID  gender SeniorCitizen Partner Dependents tenure PhoneService  \\\n",
       "0     object  object         int64  object     object  int64       object   \n",
       "\n",
       "  MultipleLines InternetService OnlineSecurity  ... DeviceProtection  \\\n",
       "0        object          object         object  ...           object   \n",
       "\n",
       "  TechSupport StreamingTV StreamingMovies Contract PaperlessBilling  \\\n",
       "0      object      object          object   object           object   \n",
       "\n",
       "  PaymentMethod MonthlyCharges TotalCharges   Churn  \n",
       "0        object        float64       object  object  \n",
       "\n",
       "[1 rows x 21 columns]"
      ]
     },
     "execution_count": 3,
     "metadata": {},
     "output_type": "execute_result"
    }
   ],
   "source": [
    "# Check dtypes of variables\n",
    "df.dtypes.to_frame().T"
   ]
  },
  {
   "cell_type": "code",
   "execution_count": 7,
   "id": "561bab58",
   "metadata": {},
   "outputs": [
    {
     "ename": "ValueError",
     "evalue": "Unable to parse string \" \" at position 488",
     "output_type": "error",
     "traceback": [
      "\u001b[1;31m---------------------------------------------------------------------------\u001b[0m",
      "\u001b[1;31mValueError\u001b[0m                                Traceback (most recent call last)",
      "\u001b[1;32mpandas\\_libs\\lib.pyx\u001b[0m in \u001b[0;36mpandas._libs.lib.maybe_convert_numeric\u001b[1;34m()\u001b[0m\n",
      "\u001b[1;31mValueError\u001b[0m: Unable to parse string \" \"",
      "\nDuring handling of the above exception, another exception occurred:\n",
      "\u001b[1;31mValueError\u001b[0m                                Traceback (most recent call last)",
      "\u001b[1;32m<ipython-input-7-ede3caecc409>\u001b[0m in \u001b[0;36m<module>\u001b[1;34m\u001b[0m\n\u001b[0;32m      1\u001b[0m \u001b[1;31m# --> Will give an error!!!!\u001b[0m\u001b[1;33m\u001b[0m\u001b[1;33m\u001b[0m\u001b[1;33m\u001b[0m\u001b[0m\n\u001b[0;32m      2\u001b[0m \u001b[1;31m# Convert TotalCharges column to numeric variable\u001b[0m\u001b[1;33m\u001b[0m\u001b[1;33m\u001b[0m\u001b[1;33m\u001b[0m\u001b[0m\n\u001b[1;32m----> 3\u001b[1;33m \u001b[0mpd\u001b[0m\u001b[1;33m.\u001b[0m\u001b[0mto_numeric\u001b[0m\u001b[1;33m(\u001b[0m\u001b[0mdf\u001b[0m\u001b[1;33m[\u001b[0m\u001b[1;34m'TotalCharges'\u001b[0m\u001b[1;33m]\u001b[0m\u001b[1;33m,\u001b[0m \u001b[0merrors\u001b[0m \u001b[1;33m=\u001b[0m \u001b[1;34m'raise'\u001b[0m\u001b[1;33m)\u001b[0m\u001b[1;33m\u001b[0m\u001b[1;33m\u001b[0m\u001b[0m\n\u001b[0m",
      "\u001b[1;32m~\\miniconda3\\lib\\site-packages\\pandas\\core\\tools\\numeric.py\u001b[0m in \u001b[0;36mto_numeric\u001b[1;34m(arg, errors, downcast)\u001b[0m\n\u001b[0;32m    152\u001b[0m         \u001b[0mcoerce_numeric\u001b[0m \u001b[1;33m=\u001b[0m \u001b[0merrors\u001b[0m \u001b[1;32mnot\u001b[0m \u001b[1;32min\u001b[0m \u001b[1;33m(\u001b[0m\u001b[1;34m\"ignore\"\u001b[0m\u001b[1;33m,\u001b[0m \u001b[1;34m\"raise\"\u001b[0m\u001b[1;33m)\u001b[0m\u001b[1;33m\u001b[0m\u001b[1;33m\u001b[0m\u001b[0m\n\u001b[0;32m    153\u001b[0m         \u001b[1;32mtry\u001b[0m\u001b[1;33m:\u001b[0m\u001b[1;33m\u001b[0m\u001b[1;33m\u001b[0m\u001b[0m\n\u001b[1;32m--> 154\u001b[1;33m             values = lib.maybe_convert_numeric(\n\u001b[0m\u001b[0;32m    155\u001b[0m                 \u001b[0mvalues\u001b[0m\u001b[1;33m,\u001b[0m \u001b[0mset\u001b[0m\u001b[1;33m(\u001b[0m\u001b[1;33m)\u001b[0m\u001b[1;33m,\u001b[0m \u001b[0mcoerce_numeric\u001b[0m\u001b[1;33m=\u001b[0m\u001b[0mcoerce_numeric\u001b[0m\u001b[1;33m\u001b[0m\u001b[1;33m\u001b[0m\u001b[0m\n\u001b[0;32m    156\u001b[0m             )\n",
      "\u001b[1;32mpandas\\_libs\\lib.pyx\u001b[0m in \u001b[0;36mpandas._libs.lib.maybe_convert_numeric\u001b[1;34m()\u001b[0m\n",
      "\u001b[1;31mValueError\u001b[0m: Unable to parse string \" \" at position 488"
     ]
    }
   ],
   "source": [
    "# --> Will give an ERROR!!!!\n",
    "# Convert TotalCharges column to numeric variable \n",
    "pd.to_numeric(df['TotalCharges'], errors = 'raise')"
   ]
  },
  {
   "cell_type": "markdown",
   "id": "30b30cde",
   "metadata": {},
   "source": [
    "#### Clean up table"
   ]
  },
  {
   "cell_type": "code",
   "execution_count": 8,
   "id": "3f15136e",
   "metadata": {},
   "outputs": [
    {
     "name": "stdout",
     "output_type": "stream",
     "text": [
      "Number of nan or empty values in table = 11\n",
      "Nan or empty table rows: [488, 753, 936, 1082, 1340, 3331, 3826, 4380, 5218, 6670, 6754]\n"
     ]
    }
   ],
   "source": [
    "# Number of null or empty strings per variable\n",
    "# Clean up data-set\n",
    "# Nans\n",
    "total_null_count = 0\n",
    "index_null_values = []\n",
    "\n",
    "#Check how many empty & blank strings in table\n",
    "df_objects = df.select_dtypes(include=['object']).copy()\n",
    "for col in df.columns:\n",
    "    # print(col)\n",
    "    if col in df_objects.columns:\n",
    "        # Search for empty strings & blank with regex expression r\"^\\s*$\" in categorical variables\n",
    "        col_null_count = df[df[col].str.contains(r\"^\\s*$\")==True][col].count()\n",
    "        col_index_null_values = df[df[col].str.contains(r\"^\\s*$\")==True].index.tolist()\n",
    "        # print(str(col) + \"\\t\" + str(df[col].dtypes) + \"\\t\" + str(col_null_count))\n",
    "        total_null_count += col_null_count\n",
    "        index_null_values.extend(col_index_null_values)\n",
    "        \n",
    "    else: \n",
    "        # search for NaNs in numeric variabls\n",
    "        col_null_count = df[col].isna().sum()\n",
    "        col_index_null_values = df[np.isnan(df[col])].index.tolist()\n",
    "        # print(str(col) + \"\\t\" + str(df[col].dtypes) + \"\\t\" + str(col_null_count))\n",
    "        total_null_count += col_null_count\n",
    "        index_null_values.extend(col_index_null_values)\n",
    "\n",
    "print(f'Number of nan or empty values in table = {total_null_count}')\n",
    "print(f'Nan or empty table rows: {index_null_values}')\n"
   ]
  },
  {
   "cell_type": "code",
   "execution_count": 21,
   "id": "6d3fee10",
   "metadata": {},
   "outputs": [
    {
     "name": "stdout",
     "output_type": "stream",
     "text": [
      "New number of rows = 7032 vs old number of rows = 7043\n",
      "New number of cols = 21 vs old number of cols = 21\n"
     ]
    }
   ],
   "source": [
    "# Clean rows that contain Nan or empty values (in total charges)\n",
    "df_clean = df.drop(index_null_values, inplace=False).copy()\n",
    "df_clean['TotalCharges'] = pd.to_numeric(df_clean['TotalCharges'], errors = 'raise')\n",
    "\n",
    "# pd.to_numeric(df_clean['TotalCharges'], errors = 'raise')\n",
    "\n",
    "\n",
    "rows_clean = df_clean.shape[0]\n",
    "cols_clean = df_clean.shape[1]\n",
    "\n",
    "print(f'New number of rows = {rows_clean} vs old number of rows = {rows}')\n",
    "print(f'New number of cols = {cols_clean} vs old number of cols = {cols}')"
   ]
  },
  {
   "cell_type": "code",
   "execution_count": 22,
   "id": "fcdc3a13",
   "metadata": {},
   "outputs": [
    {
     "data": {
      "text/html": [
       "<div>\n",
       "<style scoped>\n",
       "    .dataframe tbody tr th:only-of-type {\n",
       "        vertical-align: middle;\n",
       "    }\n",
       "\n",
       "    .dataframe tbody tr th {\n",
       "        vertical-align: top;\n",
       "    }\n",
       "\n",
       "    .dataframe thead th {\n",
       "        text-align: right;\n",
       "    }\n",
       "</style>\n",
       "<table border=\"1\" class=\"dataframe\">\n",
       "  <thead>\n",
       "    <tr style=\"text-align: right;\">\n",
       "      <th></th>\n",
       "      <th>customerID</th>\n",
       "      <th>gender</th>\n",
       "      <th>SeniorCitizen</th>\n",
       "      <th>Partner</th>\n",
       "      <th>Dependents</th>\n",
       "      <th>tenure</th>\n",
       "      <th>PhoneService</th>\n",
       "      <th>MultipleLines</th>\n",
       "      <th>InternetService</th>\n",
       "      <th>OnlineSecurity</th>\n",
       "      <th>...</th>\n",
       "      <th>DeviceProtection</th>\n",
       "      <th>TechSupport</th>\n",
       "      <th>StreamingTV</th>\n",
       "      <th>StreamingMovies</th>\n",
       "      <th>Contract</th>\n",
       "      <th>PaperlessBilling</th>\n",
       "      <th>PaymentMethod</th>\n",
       "      <th>MonthlyCharges</th>\n",
       "      <th>TotalCharges</th>\n",
       "      <th>Churn</th>\n",
       "    </tr>\n",
       "  </thead>\n",
       "  <tbody>\n",
       "    <tr>\n",
       "      <th>0</th>\n",
       "      <td>object</td>\n",
       "      <td>object</td>\n",
       "      <td>int64</td>\n",
       "      <td>object</td>\n",
       "      <td>object</td>\n",
       "      <td>int64</td>\n",
       "      <td>object</td>\n",
       "      <td>object</td>\n",
       "      <td>object</td>\n",
       "      <td>object</td>\n",
       "      <td>...</td>\n",
       "      <td>object</td>\n",
       "      <td>object</td>\n",
       "      <td>object</td>\n",
       "      <td>object</td>\n",
       "      <td>object</td>\n",
       "      <td>object</td>\n",
       "      <td>object</td>\n",
       "      <td>float64</td>\n",
       "      <td>float64</td>\n",
       "      <td>object</td>\n",
       "    </tr>\n",
       "  </tbody>\n",
       "</table>\n",
       "<p>1 rows × 21 columns</p>\n",
       "</div>"
      ],
      "text/plain": [
       "  customerID  gender SeniorCitizen Partner Dependents tenure PhoneService  \\\n",
       "0     object  object         int64  object     object  int64       object   \n",
       "\n",
       "  MultipleLines InternetService OnlineSecurity  ... DeviceProtection  \\\n",
       "0        object          object         object  ...           object   \n",
       "\n",
       "  TechSupport StreamingTV StreamingMovies Contract PaperlessBilling  \\\n",
       "0      object      object          object   object           object   \n",
       "\n",
       "  PaymentMethod MonthlyCharges TotalCharges   Churn  \n",
       "0        object        float64      float64  object  \n",
       "\n",
       "[1 rows x 21 columns]"
      ]
     },
     "execution_count": 22,
     "metadata": {},
     "output_type": "execute_result"
    }
   ],
   "source": [
    "df_clean.dtypes.to_frame().T"
   ]
  },
  {
   "cell_type": "markdown",
   "id": "19959722",
   "metadata": {},
   "source": [
    "##### What are the statistics of monthly & total charges of customers vs people that churn?"
   ]
  },
  {
   "cell_type": "markdown",
   "id": "495e0948",
   "metadata": {},
   "source": [
    "### Total charges"
   ]
  },
  {
   "cell_type": "code",
   "execution_count": 36,
   "id": "bea27749",
   "metadata": {},
   "outputs": [
    {
     "name": "stdout",
     "output_type": "stream",
     "text": [
      "Number of customers: 5163\n",
      "Number churned: 1869\n"
     ]
    }
   ],
   "source": [
    "total_charges_customer = df_clean[df_clean.Churn == 'No']['TotalCharges']\n",
    "total_charges_churned = df_clean[df_clean.Churn == 'Yes']['TotalCharges']\n",
    "\n",
    "print(f'Number of customers: {total_charges_customer.shape[0]}')\n",
    "print(f'Number churned: {total_charges_churned.shape[0]}')"
   ]
  },
  {
   "cell_type": "code",
   "execution_count": 47,
   "id": "995ebbb7",
   "metadata": {},
   "outputs": [
    {
     "data": {
      "text/plain": [
       "<matplotlib.legend.Legend at 0x19a506590a0>"
      ]
     },
     "execution_count": 47,
     "metadata": {},
     "output_type": "execute_result"
    },
    {
     "data": {
      "image/png": "[encoded data removed]",
      "text/plain": [
       "<Figure size 576x288 with 1 Axes>"
      ]
     },
     "metadata": {
      "needs_background": "light"
     },
     "output_type": "display_data"
    }
   ],
   "source": [
    "fig, ax = plt.subplots(figsize = (8,4))\n",
    "# PLOTS\n",
    "# Histogram\n",
    "# total_charges_customer.plot(kind = \"hist\", color = 'grey', alpha=0.5, density = True, bins = 15, label='customers', ax=ax) # change density to true, because KDE uses density\n",
    "# total_charges_churned.plot(kind = \"hist\", color = 'salmon', alpha=0.5, density = True, bins = 15, label='churned', ax=ax) # change density to true, because KDE uses density\n",
    "\n",
    "# KDE\n",
    "total_charges_customer.plot(kind = \"kde\", color='black', label='customers', ax=ax)\n",
    "total_charges_churned.plot(kind = \"kde\", color='red', label='churned', ax=ax)\n",
    "\n",
    "# Plot percentiles\n",
    "# total_charges_customer.plot(kind = \"kde\", color='black', label='TotalCharges')\n",
    "# total_charges_churned.plot(kind = \"kde\", color='red', label='TotalCharges')\n",
    "quantile_labels = total_charges_customer.describe()[-4:-1].index\n",
    "quantiles_customer = total_charges_customer.describe()[-4:-1]\n",
    "quantiles_churned = total_charges_churned.describe()[-4:-1]\n",
    "trans = ax.get_xaxis_transform()\n",
    "\n",
    "for i in range(3):\n",
    "    ax.axvline(quantiles_customer[i], color='black', ymax=0.5, alpha = 1, linestyle = \":\")\n",
    "    ax.axvline(total_charges_churned.describe()[-4:-1][i], color='red', ymax=0.75, alpha = 1, linestyle = \":\")\n",
    "    plt.text(quantiles_customer[i], .52, str(quantile_labels[i]), color = 'black', transform=trans, ha='center', va='bottom')\n",
    "    plt.text(quantiles_churned[i], .77, str(quantile_labels[i]), color = 'red', transform=trans, ha='center', va='bottom')\n",
    "\n",
    "# X & Y labels & title\n",
    "ax.set_xlabel(\"Charges ($)\"), ax.set_ylabel('Frequency'), ax.set_title(\"Comparison of total charges of customers vs churned\")\n",
    "# Configure plot\n",
    "ax.set_xlim(0, 10000)\n",
    "ax.set_ylim(0, 0.001)\n",
    "# ax.tick_params(left = False, bottom = False)\n",
    "ax.set_yticks([])\n",
    "ax.spines[['left', 'right', 'top']].set_visible(False)\n",
    "ax.legend()"
   ]
  },
  {
   "cell_type": "markdown",
   "id": "495e0948",
   "metadata": {},
   "source": [
    "### Monthly charges"
   ]
  },
  {
   "cell_type": "code",
   "execution_count": 23,
   "id": "eea56a15",
   "metadata": {},
   "outputs": [
    {
     "name": "stdout",
     "output_type": "stream",
     "text": [
      "5163.0\n",
      "1869.0\n",
      "count    7032.000000\n",
      "mean     2283.300441\n",
      "std      2266.771362\n",
      "min        18.800000\n",
      "25%       401.450000\n",
      "50%      1397.475000\n",
      "75%      3794.737500\n",
      "max      8684.800000\n",
      "Name: TotalCharges, dtype: float64\n",
      "0.0\n"
     ]
    }
   ],
   "source": [
    "# filter data\n",
    "# split data set into customers vs churned \n",
    "monthly_charges_customer = df_clean[df_clean.Churn == 'No']['MonthlyCharges']\n",
    "monthly_charges_churned = df_clean[df_clean.Churn == 'Yes']['MonthlyCharges']\n",
    "# split data set into old customers vs old churned (without new customers, where TotalCharges = 0)\n",
    "# monthly_charges_customer_old = df[(df.Churn == 'No') & (df.TotalCharges != 0)]['MonthlyCharges'] \n",
    "# monthly_charges_churned_old = df[(df.Churn == 'Yes') & (df.TotalCharges != 0)]['MonthlyCharges']\n",
    "\n",
    "monthly_charges_customer_old = df_clean['TotalCharges'] \n",
    "monthly_charges_churned_old = df_clean[df_clean.TotalCharges == 0]['TotalCharges']\n",
    "\n",
    "# print(monthly_charges_customer.describe()[0])\n",
    "# print(monthly_charges_churned.describe()[0])\n",
    "# print(monthly_charges_customer_old.describe())\n",
    "# print(monthly_charges_churned_old.describe()[0])\n",
    "\n",
    "\n",
    "# TODO:\n",
    "# --> plot histograms as line plot: https://towardsdatascience.com/take-your-histograms-to-the-next-level-using-matplotlib-5f093ad7b9d3\n",
    "# --> compare average / p10 / p90 percentiles + skeweness\n",
    "# --> What if we take away the customers that just joined (i.e. have no total charges)?\n",
    "# --> Is there a clear difference in the monthly & total charges between people that stay vs people that churned? "
   ]
  },
  {
   "cell_type": "code",
   "execution_count": 174,
   "id": "23f00292",
   "metadata": {},
   "outputs": [
    {
     "data": {
      "text/plain": [
       "Index(['customerID', 'gender', 'SeniorCitizen', 'Partner', 'Dependents',\n",
       "       'tenure', 'PhoneService', 'MultipleLines', 'InternetService',\n",
       "       'OnlineSecurity', 'OnlineBackup', 'DeviceProtection', 'TechSupport',\n",
       "       'StreamingTV', 'StreamingMovies', 'Contract', 'PaperlessBilling',\n",
       "       'PaymentMethod', 'MonthlyCharges', 'TotalCharges', 'Churn'],\n",
       "      dtype='object')"
      ]
     },
     "execution_count": 174,
     "metadata": {},
     "output_type": "execute_result"
    }
   ],
   "source": [
    "df_clean.columns"
   ]
  },
  {
   "cell_type": "code",
   "execution_count": 148,
   "id": "29a70f02",
   "metadata": {},
   "outputs": [
    {
     "data": {
      "image/png": "[encoded data removed]",
      "text/plain": [
       "<Figure size 1152x432 with 2 Axes>"
      ]
     },
     "metadata": {
      "needs_background": "light"
     },
     "output_type": "display_data"
    }
   ],
   "source": [
    "fig, ax = plt.subplots(1, 2, figsize = (16,6))\n",
    "# PLOTS\n",
    "# Histogram\n",
    "# monthly_charges_customer.plot(kind = \"hist\", color = 'grey', alpha=0.5, density = True, bins = 15, ax=ax[0]) # change density to true, because KDE uses density\n",
    "# monthly_charges_churned.plot(kind = \"hist\", color = 'salmon', alpha=0.5, density = True, bins = 15, ax=ax[0]) # change density to true, because KDE uses density\n",
    "\n",
    "# KDE\n",
    "monthly_charges_customer.plot(kind = \"kde\", color='black', label='MonthlyCharges', ax=ax[0])\n",
    "monthly_charges_churned.plot(kind = \"kde\", color='red', label='MonthlyCharges', ax=ax[0])\n",
    "\n",
    "# Plot percentiles\n",
    "# monthly_charges_customer.plot(kind = \"kde\", color='black', label='MonthlyCharges')\n",
    "# monthly_charges_churned.plot(kind = \"kde\", color='red', label='MonthlyCharges')\n",
    "quantile_labels = monthly_charges_customer.describe()[-4:-1].index\n",
    "quantiles_customer = monthly_charges_customer.describe()[-4:-1]\n",
    "quantiles_churned = monthly_charges_churned.describe()[-4:-1]\n",
    "trans = ax[0].get_xaxis_transform()\n",
    "\n",
    "for i in range(3):\n",
    "    ax[0].axvline(quantiles_customer[i], color='black', ymax=0.5, alpha = 1, linestyle = \":\")\n",
    "    ax[0].axvline(monthly_charges_churned.describe()[-4:-1][i], color='red', ymax=0.75, alpha = 1, linestyle = \":\")\n",
    "    plt.text(quantiles_customer[i], .52, str(quantile_labels[i]), color = 'black', transform=trans, ha='center', va='bottom')\n",
    "    plt.text(quantiles_churned[i], .77, str(quantile_labels[i]), color = 'red', transform=trans, ha='center', va='bottom')\n",
    "\n",
    "# X & Y labels & title\n",
    "ax[0].set_xlabel(\"Charges ($)\"), ax[0].set_ylabel('Frequency'), ax[0].set_title(\"Comparison of monthly charges of customers vs churned\")\n",
    "# Configure plot\n",
    "ax[0].set_xlim(0, 140), ax[0].set_ylim(0, 0.05)\n",
    "# ax.tick_params(left = False, bottom = False)\n",
    "ax[0].set_yticks([])\n",
    "ax[0].spines[['left', 'right', 'top']].set_visible(False)\n",
    "\n",
    "# plt.show()"
   ]
  },
  {
   "cell_type": "code",
   "execution_count": 57,
   "id": "399eb9fc",
   "metadata": {},
   "outputs": [
    {
     "data": {
      "text/plain": [
       "25%    25.100\n",
       "50%    64.425\n",
       "75%    88.400\n",
       "Name: MonthlyCharges, dtype: float64"
      ]
     },
     "execution_count": 57,
     "metadata": {},
     "output_type": "execute_result"
    }
   ],
   "source": [
    "monthly_charges_customer.describe()[-4:-1]"
   ]
  },
  {
   "cell_type": "code",
   "execution_count": 54,
   "id": "2f2df3df",
   "metadata": {},
   "outputs": [
    {
     "data": {
      "text/plain": [
       "25%    25.100\n",
       "50%    64.425\n",
       "75%    88.400\n",
       "Name: MonthlyCharges, dtype: float64"
      ]
     },
     "execution_count": 54,
     "metadata": {},
     "output_type": "execute_result"
    }
   ],
   "source": [
    "# Calculate quantiles\n",
    "quantiles = [0.1, 0.5, 0.9]\n",
    "\n",
    "# Caluclate quantile statistics\n",
    "monthly_charges_customer_stats = monthly_charges_customer.describe()[-4:-1]\n",
    "monthly_charges_churned_stats = monthly_charges_churned.describe()\n",
    "# monthly_charges_stats, monthly_charges_churned_stats\n",
    "monthly_charges_customer_stats[-4:-1]\n",
    "# type(monthly_charges_customer_stats[0])"
   ]
  },
  {
   "cell_type": "code",
   "execution_count": null,
   "id": "22c19252",
   "metadata": {},
   "outputs": [],
   "source": []
  }
 ],
 "metadata": {
  "kernelspec": {
   "display_name": "Python 3 (ipykernel)",
   "language": "python",
   "name": "python3"
  },
  "language_info": {
   "codemirror_mode": {
    "name": "ipython",
    "version": 3
   },
   "file_extension": ".py",
   "mimetype": "text/x-python",
   "name": "python",
   "nbconvert_exporter": "python",
   "pygments_lexer": "ipython3",
   "version": "3.9.1"
  }
 },
 "nbformat": 4,
 "nbformat_minor": 5
}
